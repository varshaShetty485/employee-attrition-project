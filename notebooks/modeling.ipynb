{
 "cells": [
  {
   "cell_type": "code",
   "execution_count": 17,
   "metadata": {},
   "outputs": [
    {
     "name": "stdout",
     "output_type": "stream",
     "text": [
      "<class 'pandas.core.frame.DataFrame'>\n",
      "RangeIndex: 1470 entries, 0 to 1469\n",
      "Data columns (total 45 columns):\n",
      " #   Column                             Non-Null Count  Dtype\n",
      "---  ------                             --------------  -----\n",
      " 0   Age                                1470 non-null   int64\n",
      " 1   Attrition                          1470 non-null   int64\n",
      " 2   DailyRate                          1470 non-null   int64\n",
      " 3   DistanceFromHome                   1470 non-null   int64\n",
      " 4   Education                          1470 non-null   int64\n",
      " 5   EnvironmentSatisfaction            1470 non-null   int64\n",
      " 6   HourlyRate                         1470 non-null   int64\n",
      " 7   JobInvolvement                     1470 non-null   int64\n",
      " 8   JobLevel                           1470 non-null   int64\n",
      " 9   JobSatisfaction                    1470 non-null   int64\n",
      " 10  MonthlyIncome                      1470 non-null   int64\n",
      " 11  MonthlyRate                        1470 non-null   int64\n",
      " 12  NumCompaniesWorked                 1470 non-null   int64\n",
      " 13  PercentSalaryHike                  1470 non-null   int64\n",
      " 14  PerformanceRating                  1470 non-null   int64\n",
      " 15  RelationshipSatisfaction           1470 non-null   int64\n",
      " 16  StockOptionLevel                   1470 non-null   int64\n",
      " 17  TotalWorkingYears                  1470 non-null   int64\n",
      " 18  TrainingTimesLastYear              1470 non-null   int64\n",
      " 19  WorkLifeBalance                    1470 non-null   int64\n",
      " 20  YearsAtCompany                     1470 non-null   int64\n",
      " 21  YearsInCurrentRole                 1470 non-null   int64\n",
      " 22  YearsSinceLastPromotion            1470 non-null   int64\n",
      " 23  YearsWithCurrManager               1470 non-null   int64\n",
      " 24  BusinessTravel_Travel_Frequently   1470 non-null   bool \n",
      " 25  BusinessTravel_Travel_Rarely       1470 non-null   bool \n",
      " 26  Department_Research & Development  1470 non-null   bool \n",
      " 27  Department_Sales                   1470 non-null   bool \n",
      " 28  EducationField_Life Sciences       1470 non-null   bool \n",
      " 29  EducationField_Marketing           1470 non-null   bool \n",
      " 30  EducationField_Medical             1470 non-null   bool \n",
      " 31  EducationField_Other               1470 non-null   bool \n",
      " 32  EducationField_Technical Degree    1470 non-null   bool \n",
      " 33  Gender_Male                        1470 non-null   bool \n",
      " 34  JobRole_Human Resources            1470 non-null   bool \n",
      " 35  JobRole_Laboratory Technician      1470 non-null   bool \n",
      " 36  JobRole_Manager                    1470 non-null   bool \n",
      " 37  JobRole_Manufacturing Director     1470 non-null   bool \n",
      " 38  JobRole_Research Director          1470 non-null   bool \n",
      " 39  JobRole_Research Scientist         1470 non-null   bool \n",
      " 40  JobRole_Sales Executive            1470 non-null   bool \n",
      " 41  JobRole_Sales Representative       1470 non-null   bool \n",
      " 42  MaritalStatus_Married              1470 non-null   bool \n",
      " 43  MaritalStatus_Single               1470 non-null   bool \n",
      " 44  OverTime_Yes                       1470 non-null   bool \n",
      "dtypes: bool(21), int64(24)\n",
      "memory usage: 305.9 KB\n"
     ]
    }
   ],
   "source": [
    "import pandas as pd\n",
    "import numpy as np\n",
    "import seaborn as sns\n",
    "import matplotlib.pyplot as plt\n",
    "from sklearn.model_selection import train_test_split\n",
    "\n",
    "# Load the dataset\n",
    "df = pd.read_csv('../data/HR-Employee-Attrition.csv')\n",
    "\n",
    "\n",
    "df_model = df.copy()\n",
    "df_model['Attrition'] = df_model['Attrition'].map({'Yes': 1, 'No': 0})\n",
    "\n",
    "# Dropping unnecessary columns\n",
    "drop_cols = ['EmployeeNumber', 'EmployeeCount', 'Over18', 'StandardHours']\n",
    "df_model.drop(columns=drop_cols, inplace=True, errors='ignore')\n",
    "\n",
    "# One-hot encode categorical columns\n",
    "df_model = pd.get_dummies(df_model, drop_first=True)\n",
    "df_model.info()"
   ]
  },
  {
   "cell_type": "code",
   "execution_count": 18,
   "metadata": {},
   "outputs": [
    {
     "name": "stdout",
     "output_type": "stream",
     "text": [
      "Train shape: (1176, 44)\n",
      "Test shape: (294, 44)\n",
      "Attrition rate in train set:\n",
      " Attrition\n",
      "0    0.838435\n",
      "1    0.161565\n",
      "Name: proportion, dtype: float64\n"
     ]
    }
   ],
   "source": [
    "# Features and target\n",
    "X = df_model.drop('Attrition', axis=1)\n",
    "y = df_model['Attrition']\n",
    "\n",
    "# Split data\n",
    "X_train, X_test, y_train, y_test = train_test_split(\n",
    "    X, y, test_size=0.2, random_state=42, stratify=y\n",
    ")\n",
    "\n",
    "print(\"Train shape:\", X_train.shape)\n",
    "print(\"Test shape:\", X_test.shape)\n",
    "print(\"Attrition rate in train set:\\n\", y_train.value_counts(normalize=True))\n"
   ]
  },
  {
   "cell_type": "code",
   "execution_count": 19,
   "metadata": {},
   "outputs": [
    {
     "name": "stderr",
     "output_type": "stream",
     "text": [
      "c:\\Python311\\Lib\\site-packages\\xgboost\\sklearn.py:1395: UserWarning: `use_label_encoder` is deprecated in 1.7.0.\n",
      "  warnings.warn(\"`use_label_encoder` is deprecated in 1.7.0.\")\n",
      "c:\\Python311\\Lib\\site-packages\\sklearn\\linear_model\\_logistic.py:458: ConvergenceWarning: lbfgs failed to converge (status=1):\n",
      "STOP: TOTAL NO. of ITERATIONS REACHED LIMIT.\n",
      "\n",
      "Increase the number of iterations (max_iter) or scale the data as shown in:\n",
      "    https://scikit-learn.org/stable/modules/preprocessing.html\n",
      "Please also refer to the documentation for alternative solver options:\n",
      "    https://scikit-learn.org/stable/modules/linear_model.html#logistic-regression\n",
      "  n_iter_i = _check_optimize_result(\n"
     ]
    },
    {
     "name": "stdout",
     "output_type": "stream",
     "text": [
      " Logistic Regression Results\n",
      "Classification Report:\n",
      "               precision    recall  f1-score   support\n",
      "\n",
      "           0       0.92      0.71      0.80       247\n",
      "           1       0.31      0.68      0.43        47\n",
      "\n",
      "    accuracy                           0.71       294\n",
      "   macro avg       0.62      0.70      0.62       294\n",
      "weighted avg       0.82      0.71      0.74       294\n",
      "\n",
      "Confusion Matrix:\n"
     ]
    },
    {
     "data": {
      "image/png": "[encoded data removed]",
      "text/plain": [
       "<Figure size 640x480 with 2 Axes>"
      ]
     },
     "metadata": {},
     "output_type": "display_data"
    },
    {
     "name": "stdout",
     "output_type": "stream",
     "text": [
      " Random Forest Results\n",
      "Classification Report:\n",
      "               precision    recall  f1-score   support\n",
      "\n",
      "           0       0.85      0.98      0.91       247\n",
      "           1       0.44      0.09      0.14        47\n",
      "\n",
      "    accuracy                           0.84       294\n",
      "   macro avg       0.65      0.53      0.53       294\n",
      "weighted avg       0.78      0.84      0.79       294\n",
      "\n",
      "Confusion Matrix:\n"
     ]
    },
    {
     "data": {
      "image/png": "[encoded data removed]",
      "text/plain": [
       "<Figure size 640x480 with 2 Axes>"
      ]
     },
     "metadata": {},
     "output_type": "display_data"
    },
    {
     "name": "stdout",
     "output_type": "stream",
     "text": [
      " XGBoost Results\n",
      "Classification Report:\n",
      "               precision    recall  f1-score   support\n",
      "\n",
      "           0       0.88      0.94      0.91       247\n",
      "           1       0.53      0.34      0.42        47\n",
      "\n",
      "    accuracy                           0.85       294\n",
      "   macro avg       0.71      0.64      0.66       294\n",
      "weighted avg       0.83      0.85      0.83       294\n",
      "\n",
      "Confusion Matrix:\n"
     ]
    },
    {
     "data": {
      "image/png": "[encoded data removed]",
      "text/plain": [
       "<Figure size 640x480 with 2 Axes>"
      ]
     },
     "metadata": {},
     "output_type": "display_data"
    },
    {
     "name": "stdout",
     "output_type": "stream",
     "text": [
      "\n",
      "Model Comparison:\n"
     ]
    },
    {
     "data": {
      "text/html": [
       "<div>\n",
       "<style scoped>\n",
       "    .dataframe tbody tr th:only-of-type {\n",
       "        vertical-align: middle;\n",
       "    }\n",
       "\n",
       "    .dataframe tbody tr th {\n",
       "        vertical-align: top;\n",
       "    }\n",
       "\n",
       "    .dataframe thead th {\n",
       "        text-align: right;\n",
       "    }\n",
       "</style>\n",
       "<table border=\"1\" class=\"dataframe\">\n",
       "  <thead>\n",
       "    <tr style=\"text-align: right;\">\n",
       "      <th></th>\n",
       "      <th>Model</th>\n",
       "      <th>F1 Score</th>\n",
       "      <th>ROC AUC</th>\n",
       "    </tr>\n",
       "  </thead>\n",
       "  <tbody>\n",
       "    <tr>\n",
       "      <th>0</th>\n",
       "      <td>Logistic Regression</td>\n",
       "      <td>0.426667</td>\n",
       "      <td>0.760875</td>\n",
       "    </tr>\n",
       "    <tr>\n",
       "      <th>2</th>\n",
       "      <td>XGBoost</td>\n",
       "      <td>0.415584</td>\n",
       "      <td>0.746404</td>\n",
       "    </tr>\n",
       "    <tr>\n",
       "      <th>1</th>\n",
       "      <td>Random Forest</td>\n",
       "      <td>0.142857</td>\n",
       "      <td>0.751486</td>\n",
       "    </tr>\n",
       "  </tbody>\n",
       "</table>\n",
       "</div>"
      ],
      "text/plain": [
       "                 Model  F1 Score   ROC AUC\n",
       "0  Logistic Regression  0.426667  0.760875\n",
       "2              XGBoost  0.415584  0.746404\n",
       "1        Random Forest  0.142857  0.751486"
      ]
     },
     "metadata": {},
     "output_type": "display_data"
    }
   ],
   "source": [
    "# Imports\n",
    "from sklearn.linear_model import LogisticRegression\n",
    "from sklearn.ensemble import RandomForestClassifier\n",
    "from xgboost import XGBClassifier\n",
    "from sklearn.metrics import classification_report, confusion_matrix, roc_auc_score, f1_score\n",
    "from sklearn.model_selection import cross_val_score\n",
    "import matplotlib.pyplot as plt\n",
    "import seaborn as sns\n",
    "\n",
    "# Store models in a dictionary\n",
    "models = {\n",
    "    \"Logistic Regression\": LogisticRegression(class_weight='balanced', max_iter=1000, random_state=42),\n",
    "    \"Random Forest\": RandomForestClassifier(class_weight='balanced', random_state=42),\n",
    "    \"XGBoost\": XGBClassifier(use_label_encoder=False, eval_metric='logloss', scale_pos_weight=4, random_state=42)\n",
    "}\n",
    "\n",
    "# Create an empty results table\n",
    "results = []\n",
    "\n",
    "for name, model in models.items():\n",
    "    # Fit model\n",
    "    model.fit(X_train, y_train)\n",
    "    y_pred = model.predict(X_test)\n",
    "    \n",
    "    # Scores\n",
    "    f1 = f1_score(y_test, y_pred)\n",
    "    roc = roc_auc_score(y_test, model.predict_proba(X_test)[:,1])\n",
    "    \n",
    "    results.append({\n",
    "        'Model': name,\n",
    "        'F1 Score': f1,\n",
    "        'ROC AUC': roc\n",
    "    })\n",
    "    \n",
    "    print(f\" {name} Results\")\n",
    "    print(\"Classification Report:\\n\", classification_report(y_test, y_pred))\n",
    "    print(\"Confusion Matrix:\")\n",
    "    sns.heatmap(confusion_matrix(y_test, y_pred), annot=True, fmt='d', cmap='Blues')\n",
    "    plt.title(f'Confusion Matrix - {name}')\n",
    "    plt.xlabel('Predicted')\n",
    "    plt.ylabel('Actual')\n",
    "    plt.show()\n",
    "\n",
    "# Display comparison results\n",
    "import pandas as pd\n",
    "results_df = pd.DataFrame(results).sort_values(by='F1 Score', ascending=False)\n",
    "print(\"\\nModel Comparison:\")\n",
    "display(results_df)\n"
   ]
  },
  {
   "cell_type": "code",
   "execution_count": 20,
   "metadata": {},
   "outputs": [
    {
     "name": "stdout",
     "output_type": "stream",
     "text": [
      "Classification Report:\n",
      "               precision    recall  f1-score   support\n",
      "\n",
      "           0       0.92      0.71      0.80       247\n",
      "           1       0.31      0.68      0.43        47\n",
      "\n",
      "    accuracy                           0.71       294\n",
      "   macro avg       0.62      0.70      0.62       294\n",
      "weighted avg       0.82      0.71      0.74       294\n",
      "\n",
      "\n",
      "Confusion Matrix:\n",
      " [[176  71]\n",
      " [ 15  32]]\n"
     ]
    },
    {
     "name": "stderr",
     "output_type": "stream",
     "text": [
      "c:\\Python311\\Lib\\site-packages\\sklearn\\linear_model\\_logistic.py:458: ConvergenceWarning: lbfgs failed to converge (status=1):\n",
      "STOP: TOTAL NO. of ITERATIONS REACHED LIMIT.\n",
      "\n",
      "Increase the number of iterations (max_iter) or scale the data as shown in:\n",
      "    https://scikit-learn.org/stable/modules/preprocessing.html\n",
      "Please also refer to the documentation for alternative solver options:\n",
      "    https://scikit-learn.org/stable/modules/linear_model.html#logistic-regression\n",
      "  n_iter_i = _check_optimize_result(\n"
     ]
    }
   ],
   "source": [
    "#After comparing all the models , I will go with Logistic regression \n",
    "final_model = LogisticRegression(class_weight='balanced',max_iter=1000,random_state=42)\n",
    "final_model.fit(X_train,y_train)\n",
    "\n",
    "y_pred=final_model.predict(X_test)\n",
    "# Evaluate\n",
    "print(\"Classification Report:\\n\", classification_report(y_test, y_pred))\n",
    "print(\"\\nConfusion Matrix:\\n\", confusion_matrix(y_test, y_pred))\n"
   ]
  },
  {
   "cell_type": "code",
   "execution_count": 21,
   "metadata": {},
   "outputs": [
    {
     "name": "stdout",
     "output_type": "stream",
     "text": [
      "Fitting 5 folds for each of 8 candidates, totalling 40 fits\n",
      "Best Parameters: {'C': 1, 'class_weight': 'balanced', 'penalty': 'l2', 'solver': 'lbfgs'}\n"
     ]
    },
    {
     "name": "stderr",
     "output_type": "stream",
     "text": [
      "c:\\Python311\\Lib\\site-packages\\sklearn\\linear_model\\_logistic.py:458: ConvergenceWarning: lbfgs failed to converge (status=1):\n",
      "STOP: TOTAL NO. of ITERATIONS REACHED LIMIT.\n",
      "\n",
      "Increase the number of iterations (max_iter) or scale the data as shown in:\n",
      "    https://scikit-learn.org/stable/modules/preprocessing.html\n",
      "Please also refer to the documentation for alternative solver options:\n",
      "    https://scikit-learn.org/stable/modules/linear_model.html#logistic-regression\n",
      "  n_iter_i = _check_optimize_result(\n"
     ]
    }
   ],
   "source": [
    "#Fine tuning the model to improve the performnace \n",
    "from sklearn.model_selection import GridSearchCV\n",
    "\n",
    "# Define model\n",
    "logreg = LogisticRegression(max_iter=1000, random_state=42)\n",
    "\n",
    "# Define parameter grid\n",
    "param_grid = {\n",
    "    'C': [0.01, 0.1, 1, 10],            # Try different regularization levels\n",
    "    'penalty': ['l2'],                  # L2 is default; can try 'l1' with 'liblinear'\n",
    "    'class_weight': ['balanced', None],# Compare weighted vs. unweighted\n",
    "    'solver': ['lbfgs']                 # 'lbfgs' supports L2; use 'liblinear' for L1\n",
    "}\n",
    "\n",
    "# GridSearchCV with F1 scoring\n",
    "grid = GridSearchCV(logreg, param_grid, cv=5, scoring='f1', n_jobs=-1, verbose=1)\n",
    "grid.fit(X_train, y_train)\n",
    "\n",
    "# Best model\n",
    "best_logreg = grid.best_estimator_\n",
    "print(\"Best Parameters:\", grid.best_params_)"
   ]
  },
  {
   "cell_type": "code",
   "execution_count": 28,
   "metadata": {},
   "outputs": [
    {
     "name": "stdout",
     "output_type": "stream",
     "text": [
      "Classification Report:\n",
      "               precision    recall  f1-score   support\n",
      "\n",
      "           0       0.92      0.71      0.80       247\n",
      "           1       0.31      0.68      0.43        47\n",
      "\n",
      "    accuracy                           0.71       294\n",
      "   macro avg       0.62      0.70      0.62       294\n",
      "weighted avg       0.82      0.71      0.74       294\n",
      "\n",
      "Confusion Matrix:\n",
      " [[176  71]\n",
      " [ 15  32]]\n"
     ]
    }
   ],
   "source": [
    "y_pred_best = best_logreg.predict(X_test)\n",
    "\n",
    "print(\"Classification Report:\\n\", classification_report(y_test, y_pred_best))\n",
    "print(\"Confusion Matrix:\\n\", confusion_matrix(y_test, y_pred_best))"
   ]
  },
  {
   "cell_type": "code",
   "execution_count": 31,
   "metadata": {},
   "outputs": [
    {
     "data": {
      "text/plain": [
       "['app/final_logreg_model.pkl']"
      ]
     },
     "execution_count": 31,
     "metadata": {},
     "output_type": "execute_result"
    }
   ],
   "source": [
    "import joblib\n",
    "import os\n",
    "\n",
    "# Make sure the target folder exists\n",
    "os.makedirs(\"app\", exist_ok=True)\n",
    "\n",
    "# Save the model\n",
    "joblib.dump(best_logreg, \"app/final_logreg_model.pkl\")"
   ]
  }
 ],
 "metadata": {
  "kernelspec": {
   "display_name": "Python 3",
   "language": "python",
   "name": "python3"
  },
  "language_info": {
   "codemirror_mode": {
    "name": "ipython",
    "version": 3
   },
   "file_extension": ".py",
   "mimetype": "text/x-python",
   "name": "python",
   "nbconvert_exporter": "python",
   "pygments_lexer": "ipython3",
   "version": "3.11.0"
  },
  "orig_nbformat": 4,
  "vscode": {
   "interpreter": {
    "hash": "c261aea317cc0286b3b3261fbba9abdec21eaa57589985bb7a274bf54d6cc0a7"
   }
  }
 },
 "nbformat": 4,
 "nbformat_minor": 2
}
